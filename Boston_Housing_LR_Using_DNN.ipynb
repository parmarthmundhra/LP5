{
  "nbformat": 4,
  "nbformat_minor": 0,
  "metadata": {
    "colab": {
      "provenance": [],
      "authorship_tag": "ABX9TyN+OfTpmTKXYttZ/zIVD4uk",
      "include_colab_link": true
    },
    "kernelspec": {
      "name": "python3",
      "display_name": "Python 3"
    },
    "language_info": {
      "name": "python"
    }
  },
  "cells": [
    {
      "cell_type": "markdown",
      "metadata": {
        "id": "view-in-github",
        "colab_type": "text"
      },
      "source": [
        "<a href=\"https://colab.research.google.com/github/Kunal726/LP5/blob/main/Boston_Housing_LR_Using_DNN.ipynb\" target=\"_parent\"><img src=\"https://colab.research.google.com/assets/colab-badge.svg\" alt=\"Open In Colab\"/></a>"
      ]
    },
    {
      "cell_type": "code",
      "execution_count": null,
      "metadata": {
        "id": "5LLS6TGDSGuK"
      },
      "outputs": [],
      "source": [
        "# Imorting Libraries\n",
        "import numpy as np\n",
        "from sklearn.model_selection import train_test_split\n",
        "from sklearn.preprocessing import StandardScaler\n",
        "from tensorflow.keras.datasets import boston_housing\n",
        "from tensorflow.keras.layers import Dense\n",
        "from tensorflow.keras.models import Sequential"
      ]
    },
    {
      "cell_type": "code",
      "source": [
        "# Load the Boston Housing dataset\n",
        "(X_train, y_train), (X_test, y_test) = boston_housing.load_data()"
      ],
      "metadata": {
        "colab": {
          "base_uri": "https://localhost:8080/"
        },
        "id": "bCl-9bcxSiwv",
        "outputId": "6b9b0bc9-bf72-4821-af25-d88b7c1e6869"
      },
      "execution_count": null,
      "outputs": [
        {
          "output_type": "stream",
          "name": "stdout",
          "text": [
            "Downloading data from https://storage.googleapis.com/tensorflow/tf-keras-datasets/boston_housing.npz\n",
            "57026/57026 [==============================] - 0s 0us/step\n"
          ]
        }
      ]
    },
    {
      "cell_type": "code",
      "source": [
        "# Scale the input features using standardization\n",
        "scaler = StandardScaler()\n",
        "X_train = scaler.fit_transform(X_train)\n",
        "X_test = scaler.transform(X_test)"
      ],
      "metadata": {
        "id": "6muOh-YrSpnu"
      },
      "execution_count": null,
      "outputs": []
    },
    {
      "cell_type": "code",
      "source": [
        "# Create the neural network model\n",
        "model = Sequential()"
      ],
      "metadata": {
        "id": "XC7N0aLuT-rX"
      },
      "execution_count": null,
      "outputs": []
    },
    {
      "cell_type": "code",
      "source": [
        "# Add layers to model\n",
        "model.add(Dense(1, activation='relu', input_shape=(13,)))\n",
        "model.add(Dense(64, activation='relu'))\n",
        "model.add(Dense(1))"
      ],
      "metadata": {
        "id": "zKBCKbhWViZG"
      },
      "execution_count": null,
      "outputs": []
    },
    {
      "cell_type": "code",
      "source": [
        "# Compile the model\n",
        "model.compile(optimizer='adam', loss='mean_squared_error')"
      ],
      "metadata": {
        "id": "5cL4sTGjUFyc"
      },
      "execution_count": null,
      "outputs": []
    },
    {
      "cell_type": "code",
      "source": [
        "# Train the model\n",
        "model.fit(X_train, y_train, epochs=100, batch_size=32, verbose=1)"
      ],
      "metadata": {
        "colab": {
          "base_uri": "https://localhost:8080/"
        },
        "id": "1nfpqMrUUI9t",
        "outputId": "a987ba07-880a-49cb-9214-b58c78747816"
      },
      "execution_count": null,
      "outputs": [
        {
          "output_type": "stream",
          "name": "stdout",
          "text": [
            "Epoch 1/100\n",
            "13/13 [==============================] - 1s 3ms/step - loss: 582.4091\n",
            "Epoch 2/100\n",
            "13/13 [==============================] - 0s 3ms/step - loss: 577.2917\n",
            "Epoch 3/100\n",
            "13/13 [==============================] - 0s 2ms/step - loss: 571.7755\n",
            "Epoch 4/100\n",
            "13/13 [==============================] - 0s 2ms/step - loss: 565.6747\n",
            "Epoch 5/100\n",
            "13/13 [==============================] - 0s 3ms/step - loss: 558.6075\n",
            "Epoch 6/100\n",
            "13/13 [==============================] - 0s 3ms/step - loss: 550.8771\n",
            "Epoch 7/100\n",
            "13/13 [==============================] - 0s 2ms/step - loss: 541.9308\n",
            "Epoch 8/100\n",
            "13/13 [==============================] - 0s 3ms/step - loss: 532.2622\n",
            "Epoch 9/100\n",
            "13/13 [==============================] - 0s 2ms/step - loss: 521.2426\n",
            "Epoch 10/100\n",
            "13/13 [==============================] - 0s 2ms/step - loss: 509.7988\n",
            "Epoch 11/100\n",
            "13/13 [==============================] - 0s 2ms/step - loss: 497.2329\n",
            "Epoch 12/100\n",
            "13/13 [==============================] - 0s 2ms/step - loss: 484.2625\n",
            "Epoch 13/100\n",
            "13/13 [==============================] - 0s 2ms/step - loss: 470.7325\n",
            "Epoch 14/100\n",
            "13/13 [==============================] - 0s 2ms/step - loss: 457.1551\n",
            "Epoch 15/100\n",
            "13/13 [==============================] - 0s 2ms/step - loss: 443.6047\n",
            "Epoch 16/100\n",
            "13/13 [==============================] - 0s 2ms/step - loss: 429.9510\n",
            "Epoch 17/100\n",
            "13/13 [==============================] - 0s 2ms/step - loss: 417.2144\n",
            "Epoch 18/100\n",
            "13/13 [==============================] - 0s 2ms/step - loss: 403.8877\n",
            "Epoch 19/100\n",
            "13/13 [==============================] - 0s 3ms/step - loss: 391.0444\n",
            "Epoch 20/100\n",
            "13/13 [==============================] - 0s 3ms/step - loss: 378.3640\n",
            "Epoch 21/100\n",
            "13/13 [==============================] - 0s 2ms/step - loss: 365.2693\n",
            "Epoch 22/100\n",
            "13/13 [==============================] - 0s 2ms/step - loss: 351.5765\n",
            "Epoch 23/100\n",
            "13/13 [==============================] - 0s 2ms/step - loss: 336.9467\n",
            "Epoch 24/100\n",
            "13/13 [==============================] - 0s 2ms/step - loss: 319.6525\n",
            "Epoch 25/100\n",
            "13/13 [==============================] - 0s 2ms/step - loss: 301.6913\n",
            "Epoch 26/100\n",
            "13/13 [==============================] - 0s 2ms/step - loss: 282.4282\n",
            "Epoch 27/100\n",
            "13/13 [==============================] - 0s 3ms/step - loss: 261.7336\n",
            "Epoch 28/100\n",
            "13/13 [==============================] - 0s 2ms/step - loss: 241.2711\n",
            "Epoch 29/100\n",
            "13/13 [==============================] - 0s 2ms/step - loss: 224.6878\n",
            "Epoch 30/100\n",
            "13/13 [==============================] - 0s 2ms/step - loss: 211.4334\n",
            "Epoch 31/100\n",
            "13/13 [==============================] - 0s 2ms/step - loss: 200.6026\n",
            "Epoch 32/100\n",
            "13/13 [==============================] - 0s 2ms/step - loss: 192.1132\n",
            "Epoch 33/100\n",
            "13/13 [==============================] - 0s 3ms/step - loss: 185.2628\n",
            "Epoch 34/100\n",
            "13/13 [==============================] - 0s 2ms/step - loss: 180.0223\n",
            "Epoch 35/100\n",
            "13/13 [==============================] - 0s 3ms/step - loss: 174.7363\n",
            "Epoch 36/100\n",
            "13/13 [==============================] - 0s 3ms/step - loss: 170.0074\n",
            "Epoch 37/100\n",
            "13/13 [==============================] - 0s 2ms/step - loss: 165.4672\n",
            "Epoch 38/100\n",
            "13/13 [==============================] - 0s 2ms/step - loss: 161.1439\n",
            "Epoch 39/100\n",
            "13/13 [==============================] - 0s 3ms/step - loss: 157.0233\n",
            "Epoch 40/100\n",
            "13/13 [==============================] - 0s 3ms/step - loss: 152.7930\n",
            "Epoch 41/100\n",
            "13/13 [==============================] - 0s 3ms/step - loss: 148.9637\n",
            "Epoch 42/100\n",
            "13/13 [==============================] - 0s 3ms/step - loss: 145.0453\n",
            "Epoch 43/100\n",
            "13/13 [==============================] - 0s 3ms/step - loss: 141.2608\n",
            "Epoch 44/100\n",
            "13/13 [==============================] - 0s 3ms/step - loss: 137.5440\n",
            "Epoch 45/100\n",
            "13/13 [==============================] - 0s 3ms/step - loss: 133.8336\n",
            "Epoch 46/100\n",
            "13/13 [==============================] - 0s 2ms/step - loss: 130.2819\n",
            "Epoch 47/100\n",
            "13/13 [==============================] - 0s 2ms/step - loss: 126.9435\n",
            "Epoch 48/100\n",
            "13/13 [==============================] - 0s 2ms/step - loss: 123.7278\n",
            "Epoch 49/100\n",
            "13/13 [==============================] - 0s 2ms/step - loss: 120.5113\n",
            "Epoch 50/100\n",
            "13/13 [==============================] - 0s 2ms/step - loss: 117.3965\n",
            "Epoch 51/100\n",
            "13/13 [==============================] - 0s 2ms/step - loss: 114.1349\n",
            "Epoch 52/100\n",
            "13/13 [==============================] - 0s 2ms/step - loss: 110.9883\n",
            "Epoch 53/100\n",
            "13/13 [==============================] - 0s 2ms/step - loss: 108.0004\n",
            "Epoch 54/100\n",
            "13/13 [==============================] - 0s 2ms/step - loss: 104.9988\n",
            "Epoch 55/100\n",
            "13/13 [==============================] - 0s 2ms/step - loss: 102.2902\n",
            "Epoch 56/100\n",
            "13/13 [==============================] - 0s 2ms/step - loss: 99.5679\n",
            "Epoch 57/100\n",
            "13/13 [==============================] - 0s 2ms/step - loss: 96.9449\n",
            "Epoch 58/100\n",
            "13/13 [==============================] - 0s 2ms/step - loss: 94.4033\n",
            "Epoch 59/100\n",
            "13/13 [==============================] - 0s 2ms/step - loss: 91.6421\n",
            "Epoch 60/100\n",
            "13/13 [==============================] - 0s 2ms/step - loss: 88.8598\n",
            "Epoch 61/100\n",
            "13/13 [==============================] - 0s 2ms/step - loss: 85.9956\n",
            "Epoch 62/100\n",
            "13/13 [==============================] - 0s 2ms/step - loss: 83.2772\n",
            "Epoch 63/100\n",
            "13/13 [==============================] - 0s 2ms/step - loss: 80.5421\n",
            "Epoch 64/100\n",
            "13/13 [==============================] - 0s 2ms/step - loss: 77.9843\n",
            "Epoch 65/100\n",
            "13/13 [==============================] - 0s 2ms/step - loss: 75.6422\n",
            "Epoch 66/100\n",
            "13/13 [==============================] - 0s 2ms/step - loss: 73.0863\n",
            "Epoch 67/100\n",
            "13/13 [==============================] - 0s 2ms/step - loss: 71.1334\n",
            "Epoch 68/100\n",
            "13/13 [==============================] - 0s 2ms/step - loss: 68.9410\n",
            "Epoch 69/100\n",
            "13/13 [==============================] - 0s 2ms/step - loss: 66.8763\n",
            "Epoch 70/100\n",
            "13/13 [==============================] - 0s 2ms/step - loss: 64.9333\n",
            "Epoch 71/100\n",
            "13/13 [==============================] - 0s 2ms/step - loss: 63.0824\n",
            "Epoch 72/100\n",
            "13/13 [==============================] - 0s 2ms/step - loss: 61.3856\n",
            "Epoch 73/100\n",
            "13/13 [==============================] - 0s 2ms/step - loss: 59.4864\n",
            "Epoch 74/100\n",
            "13/13 [==============================] - 0s 2ms/step - loss: 57.8546\n",
            "Epoch 75/100\n",
            "13/13 [==============================] - 0s 2ms/step - loss: 56.0697\n",
            "Epoch 76/100\n",
            "13/13 [==============================] - 0s 2ms/step - loss: 54.5649\n",
            "Epoch 77/100\n",
            "13/13 [==============================] - 0s 2ms/step - loss: 53.0527\n",
            "Epoch 78/100\n",
            "13/13 [==============================] - 0s 2ms/step - loss: 51.6236\n",
            "Epoch 79/100\n",
            "13/13 [==============================] - 0s 2ms/step - loss: 50.4183\n",
            "Epoch 80/100\n",
            "13/13 [==============================] - 0s 2ms/step - loss: 49.2325\n",
            "Epoch 81/100\n",
            "13/13 [==============================] - 0s 2ms/step - loss: 47.9936\n",
            "Epoch 82/100\n",
            "13/13 [==============================] - 0s 2ms/step - loss: 46.9888\n",
            "Epoch 83/100\n",
            "13/13 [==============================] - 0s 2ms/step - loss: 45.9679\n",
            "Epoch 84/100\n",
            "13/13 [==============================] - 0s 2ms/step - loss: 45.0347\n",
            "Epoch 85/100\n",
            "13/13 [==============================] - 0s 2ms/step - loss: 44.0931\n",
            "Epoch 86/100\n",
            "13/13 [==============================] - 0s 2ms/step - loss: 43.2468\n",
            "Epoch 87/100\n",
            "13/13 [==============================] - 0s 2ms/step - loss: 42.4392\n",
            "Epoch 88/100\n",
            "13/13 [==============================] - 0s 2ms/step - loss: 41.5458\n",
            "Epoch 89/100\n",
            "13/13 [==============================] - 0s 2ms/step - loss: 40.7829\n",
            "Epoch 90/100\n",
            "13/13 [==============================] - 0s 2ms/step - loss: 39.9993\n",
            "Epoch 91/100\n",
            "13/13 [==============================] - 0s 2ms/step - loss: 39.3279\n",
            "Epoch 92/100\n",
            "13/13 [==============================] - 0s 2ms/step - loss: 38.5683\n",
            "Epoch 93/100\n",
            "13/13 [==============================] - 0s 2ms/step - loss: 37.8869\n",
            "Epoch 94/100\n",
            "13/13 [==============================] - 0s 2ms/step - loss: 37.2257\n",
            "Epoch 95/100\n",
            "13/13 [==============================] - 0s 2ms/step - loss: 36.5655\n",
            "Epoch 96/100\n",
            "13/13 [==============================] - 0s 2ms/step - loss: 35.9322\n",
            "Epoch 97/100\n",
            "13/13 [==============================] - 0s 2ms/step - loss: 35.3354\n",
            "Epoch 98/100\n",
            "13/13 [==============================] - 0s 2ms/step - loss: 34.7396\n",
            "Epoch 99/100\n",
            "13/13 [==============================] - 0s 2ms/step - loss: 34.1443\n",
            "Epoch 100/100\n",
            "13/13 [==============================] - 0s 2ms/step - loss: 33.5776\n"
          ]
        },
        {
          "output_type": "execute_result",
          "data": {
            "text/plain": [
              "<keras.callbacks.History at 0x7f33f89eea10>"
            ]
          },
          "metadata": {},
          "execution_count": 53
        }
      ]
    },
    {
      "cell_type": "code",
      "source": [
        "# Evaluate the model on the test set\n",
        "loss = model.evaluate(X_test, y_test, verbose=0)\n",
        "print(f\"Mean Squared Error on Test Set: {loss:.2f}\")"
      ],
      "metadata": {
        "colab": {
          "base_uri": "https://localhost:8080/"
        },
        "id": "bCR9_BXZUNkV",
        "outputId": "64b2dc8c-5e2d-4abe-c6d9-14469c91278a"
      },
      "execution_count": null,
      "outputs": [
        {
          "output_type": "stream",
          "name": "stdout",
          "text": [
            "Mean Squared Error on Test Set: 42.27\n"
          ]
        }
      ]
    },
    {
      "cell_type": "code",
      "source": [
        "# Predict house prices using the trained model\n",
        "predictions = model.predict(X_test)"
      ],
      "metadata": {
        "colab": {
          "base_uri": "https://localhost:8080/"
        },
        "id": "m-PI7g_lUVlt",
        "outputId": "154b720c-def9-4865-a541-5a55305ed07a"
      },
      "execution_count": null,
      "outputs": [
        {
          "output_type": "stream",
          "name": "stdout",
          "text": [
            "4/4 [==============================] - 0s 2ms/step\n"
          ]
        }
      ]
    },
    {
      "cell_type": "code",
      "source": [
        "predictions"
      ],
      "metadata": {
        "colab": {
          "base_uri": "https://localhost:8080/"
        },
        "id": "dIZ7P84XUZTt",
        "outputId": "2eb1c2cb-d800-4aaf-995b-08674b8abad7"
      },
      "execution_count": null,
      "outputs": [
        {
          "output_type": "execute_result",
          "data": {
            "text/plain": [
              "array([[15.471008],\n",
              "       [18.917122],\n",
              "       [21.469095],\n",
              "       [33.054718],\n",
              "       [24.343655],\n",
              "       [22.88868 ],\n",
              "       [29.833534],\n",
              "       [25.993357],\n",
              "       [22.03425 ],\n",
              "       [24.291702],\n",
              "       [15.471008],\n",
              "       [15.471008],\n",
              "       [19.110985],\n",
              "       [30.322247],\n",
              "       [15.471008],\n",
              "       [21.892021],\n",
              "       [28.45676 ],\n",
              "       [19.794685],\n",
              "       [21.000904],\n",
              "       [28.59433 ],\n",
              "       [15.471008],\n",
              "       [15.471008],\n",
              "       [21.3662  ],\n",
              "       [15.471008],\n",
              "       [27.015884],\n",
              "       [25.486767],\n",
              "       [34.86384 ],\n",
              "       [26.360813],\n",
              "       [15.471008],\n",
              "       [24.173855],\n",
              "       [22.139956],\n",
              "       [15.471008],\n",
              "       [43.19243 ],\n",
              "       [27.48824 ],\n",
              "       [21.299576],\n",
              "       [15.471008],\n",
              "       [15.471008],\n",
              "       [15.471008],\n",
              "       [20.735813],\n",
              "       [29.937706],\n",
              "       [19.836296],\n",
              "       [24.432121],\n",
              "       [16.003817],\n",
              "       [32.83148 ],\n",
              "       [24.06279 ],\n",
              "       [21.715376],\n",
              "       [29.903435],\n",
              "       [17.632263],\n",
              "       [20.418922],\n",
              "       [25.255283],\n",
              "       [34.426006],\n",
              "       [19.664448],\n",
              "       [15.471008],\n",
              "       [15.471008],\n",
              "       [33.490063],\n",
              "       [25.085392],\n",
              "       [16.161123],\n",
              "       [31.996452],\n",
              "       [44.224068],\n",
              "       [21.295662],\n",
              "       [25.790611],\n",
              "       [18.94859 ],\n",
              "       [15.471008],\n",
              "       [21.552526],\n",
              "       [23.90049 ],\n",
              "       [27.345144],\n",
              "       [15.471008],\n",
              "       [29.18949 ],\n",
              "       [15.471008],\n",
              "       [15.471008],\n",
              "       [28.801552],\n",
              "       [26.442177],\n",
              "       [23.830639],\n",
              "       [15.471008],\n",
              "       [30.439291],\n",
              "       [16.821186],\n",
              "       [23.135895],\n",
              "       [26.270622],\n",
              "       [30.37133 ],\n",
              "       [15.471008],\n",
              "       [21.543911],\n",
              "       [26.974031],\n",
              "       [15.471008],\n",
              "       [15.665084],\n",
              "       [18.486414],\n",
              "       [15.471008],\n",
              "       [20.36307 ],\n",
              "       [30.194107],\n",
              "       [23.555977],\n",
              "       [27.85502 ],\n",
              "       [15.471008],\n",
              "       [21.22387 ],\n",
              "       [26.255894],\n",
              "       [30.282257],\n",
              "       [32.281055],\n",
              "       [15.471008],\n",
              "       [25.679592],\n",
              "       [39.198845],\n",
              "       [29.765844],\n",
              "       [39.436707],\n",
              "       [35.113823],\n",
              "       [15.471008]], dtype=float32)"
            ]
          },
          "metadata": {},
          "execution_count": 56
        }
      ]
    },
    {
      "cell_type": "code",
      "source": [
        "from sklearn.metrics import mean_squared_error\n",
        "mse = mean_squared_error(y_test, predictions)\n",
        "rmse = np.sqrt(mse)\n",
        "print(f\"Mean Squared Error: {mse:.2f}\")\n",
        "print(f\"Root Mean Squared Error: {rmse:.2f}\")"
      ],
      "metadata": {
        "colab": {
          "base_uri": "https://localhost:8080/"
        },
        "id": "aHuao3nNUcPt",
        "outputId": "b1d325d9-2055-4f87-df14-877ba9b337e5"
      },
      "execution_count": null,
      "outputs": [
        {
          "output_type": "stream",
          "name": "stdout",
          "text": [
            "Mean Squared Error: 42.27\n",
            "Root Mean Squared Error: 6.50\n"
          ]
        }
      ]
    },
    {
      "cell_type": "code",
      "source": [
        "import matplotlib.pyplot as plt\n",
        "\n",
        "# Plotting the predicted vs actual values\n",
        "plt.scatter(y_test, predictions, color='b', alpha=0.5)\n",
        "plt.plot([y_test.min(), y_test.max()], [y_test.min(), y_test.max()], 'r--', lw=2)\n",
        "plt.xlabel('Actual Values')\n",
        "plt.ylabel('Predicted Values')\n",
        "plt.title('Actual vs Predicted Values')\n",
        "plt.show()"
      ],
      "metadata": {
        "colab": {
          "base_uri": "https://localhost:8080/",
          "height": 472
        },
        "id": "q1OVbY71WR_P",
        "outputId": "59898d70-c411-40d4-b7d3-87e1e2fee5bd"
      },
      "execution_count": null,
      "outputs": [
        {
          "output_type": "display_data",
          "data": {
            "text/plain": [
              "<Figure size 640x480 with 1 Axes>"
            ],
            "image/png": "[encoded data removed]"
          },
          "metadata": {}
        }
      ]
    },
    {
      "cell_type": "code",
      "source": [],
      "metadata": {
        "id": "28FZ1QXIXAC1"
      },
      "execution_count": null,
      "outputs": []
    }
  ]
}