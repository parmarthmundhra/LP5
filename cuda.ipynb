{
  "nbformat": 4,
  "nbformat_minor": 0,
  "metadata": {
    "colab": {
      "provenance": [],
      "gpuType": "T4",
      "authorship_tag": "ABX9TyOIn/HY8chQbuYUYm2F4euf",
      "include_colab_link": true
    },
    "kernelspec": {
      "name": "python3",
      "display_name": "Python 3"
    },
    "language_info": {
      "name": "python"
    },
    "accelerator": "GPU"
  },
  "cells": [
    {
      "cell_type": "markdown",
      "metadata": {
        "id": "view-in-github",
        "colab_type": "text"
      },
      "source": [
        "<a href=\"https://colab.research.google.com/github/Kunal726/LP5/blob/main/cuda.ipynb\" target=\"_parent\"><img src=\"https://colab.research.google.com/assets/colab-badge.svg\" alt=\"Open In Colab\"/></a>"
      ]
    },
    {
      "cell_type": "code",
      "execution_count": null,
      "metadata": {
        "colab": {
          "base_uri": "https://localhost:8080/"
        },
        "id": "DfnSOgV6_BmX",
        "outputId": "cba3352b-f21b-4db0-8c26-ad05d81d872a"
      },
      "outputs": [
        {
          "output_type": "stream",
          "name": "stdout",
          "text": [
            "Looking in indexes: https://pypi.org/simple, https://us-python.pkg.dev/colab-wheels/public/simple/\n",
            "Collecting git+https://github.com/andreinechaev/nvcc4jupyter.git\n",
            "  Cloning https://github.com/andreinechaev/nvcc4jupyter.git to /tmp/pip-req-build-8zt_2p_0\n",
            "  Running command git clone --filter=blob:none --quiet https://github.com/andreinechaev/nvcc4jupyter.git /tmp/pip-req-build-8zt_2p_0\n",
            "  Resolved https://github.com/andreinechaev/nvcc4jupyter.git to commit aac710a35f52bb78ab34d2e52517237941399eff\n",
            "  Preparing metadata (setup.py) ... \u001b[?25l\u001b[?25hdone\n",
            "Building wheels for collected packages: NVCCPlugin\n",
            "  Building wheel for NVCCPlugin (setup.py) ... \u001b[?25l\u001b[?25hdone\n",
            "  Created wheel for NVCCPlugin: filename=NVCCPlugin-0.0.2-py3-none-any.whl size=4287 sha256=f6b704a71b925a4511d0216ee02a2c48cd0e3e774384fce18908b0ecba560025\n",
            "  Stored in directory: /tmp/pip-ephem-wheel-cache-z8ndtrgs/wheels/a8/b9/18/23f8ef71ceb0f63297dd1903aedd067e6243a68ea756d6feea\n",
            "Successfully built NVCCPlugin\n",
            "Installing collected packages: NVCCPlugin\n",
            "Successfully installed NVCCPlugin-0.0.2\n"
          ]
        }
      ],
      "source": [
        "!pip install git+https://github.com/andreinechaev/nvcc4jupyter.git"
      ]
    },
    {
      "cell_type": "code",
      "source": [
        "%load_ext nvcc_plugin"
      ],
      "metadata": {
        "colab": {
          "base_uri": "https://localhost:8080/"
        },
        "id": "X-l_xgRs_RS5",
        "outputId": "813c4cbf-b922-40cb-b6f0-6e9e84b65276"
      },
      "execution_count": null,
      "outputs": [
        {
          "output_type": "stream",
          "name": "stdout",
          "text": [
            "created output directory at /content/src\n",
            "Out bin /content/result.out\n"
          ]
        }
      ]
    },
    {
      "cell_type": "markdown",
      "source": [
        "# Addition of large vectors"
      ],
      "metadata": {
        "id": "1vNEKfXSErqC"
      }
    },
    {
      "cell_type": "code",
      "source": [
        "%%cu\n",
        "\n",
        "#include <iostream>\n",
        "#include <cuda.h>\n",
        "\n",
        "// CUDA kernel for vector addition\n",
        "__global__ void vectorAddition(float* a, float* b, float* c, int size) {\n",
        "    int index = threadIdx.x + blockDim.x * blockIdx.x;\n",
        "\n",
        "    if (index < size) {\n",
        "        c[index] = a[index] + b[index];\n",
        "    }\n",
        "}\n",
        "\n",
        "int main() {\n",
        "    int size = 10;  // Size of the vectors\n",
        "    int memSize = size * sizeof(float);\n",
        "\n",
        "    // Allocate memory on the host\n",
        "    float* hostA = new float[size];\n",
        "    float* hostB = new float[size];\n",
        "    float* hostC = new float[size];\n",
        "\n",
        "    // Initialize the vectors\n",
        "    for (int i = 0; i < size; i++) {\n",
        "        hostA[i] = i;\n",
        "        hostB[i] = i * 2;\n",
        "    }\n",
        "\n",
        "    // Allocate memory on the device\n",
        "    float* deviceA;\n",
        "    float* deviceB;\n",
        "    float* deviceC;\n",
        "\n",
        "    cudaMalloc((void**)&deviceA, memSize);\n",
        "    cudaMalloc((void**)&deviceB, memSize);\n",
        "    cudaMalloc((void**)&deviceC, memSize);\n",
        "\n",
        "    // Copy data from host to device\n",
        "    cudaMemcpy(deviceA, hostA, memSize, cudaMemcpyHostToDevice);\n",
        "    cudaMemcpy(deviceB, hostB, memSize, cudaMemcpyHostToDevice);\n",
        "\n",
        "    // Launch the CUDA kernel\n",
        "    int blockSize = 256;\n",
        "    int gridSize = (size + blockSize - 1) / blockSize;\n",
        "    vectorAddition<<<gridSize, blockSize>>>(deviceA, deviceB, deviceC, size);\n",
        "\n",
        "    // Copy the result back to the host\n",
        "    cudaMemcpy(hostC, deviceC, memSize, cudaMemcpyDeviceToHost);\n",
        "\n",
        "    // Print the result\n",
        "    std::cout<< \"Vector A : \\n\";\n",
        "    for (int i = 0; i < size; i++) {\n",
        "        std::cout << hostA[i] << \" \";\n",
        "    }\n",
        "    std::cout << std::endl;\n",
        "\n",
        "    // Print the result\n",
        "    std::cout<< \"\\nVector B : \\n\";\n",
        "    for (int i = 0; i < size; i++) {\n",
        "        std::cout << hostB[i] << \" \";\n",
        "    }\n",
        "    std::cout << std::endl;\n",
        "\n",
        "    // Print the result\n",
        "    std::cout<< \"\\nResult : \\n\";\n",
        "    for (int i = 0; i < size; i++) {\n",
        "        std::cout << hostC[i] << \" \";\n",
        "    }\n",
        "    std::cout << std::endl;\n",
        "\n",
        "    // Free device memory\n",
        "    cudaFree(deviceA);\n",
        "    cudaFree(deviceB);\n",
        "    cudaFree(deviceC);\n",
        "\n",
        "    // Free host memory\n",
        "    delete[] hostA;\n",
        "    delete[] hostB;\n",
        "    delete[] hostC;\n",
        "\n",
        "    return 0;\n",
        "}\n"
      ],
      "metadata": {
        "colab": {
          "base_uri": "https://localhost:8080/"
        },
        "id": "IUKOGi7U_X8X",
        "outputId": "7c079c12-0c8c-4c16-e665-df8113cba8ba"
      },
      "execution_count": null,
      "outputs": [
        {
          "output_type": "stream",
          "name": "stdout",
          "text": [
            "Vector A : \n",
            "0 1 2 3 4 5 6 7 8 9 \n",
            "\n",
            "Vector B : \n",
            "0 2 4 6 8 10 12 14 16 18 \n",
            "\n",
            "Result : \n",
            "0 3 6 9 12 15 18 21 24 27 \n",
            "\n"
          ]
        }
      ]
    },
    {
      "cell_type": "markdown",
      "source": [
        "# matrix Multiplication"
      ],
      "metadata": {
        "id": "bv5Qj0u8EvcW"
      }
    },
    {
      "cell_type": "code",
      "source": [
        "%%cu\n",
        "\n",
        "#include <iostream>\n",
        "\n",
        "__global__ void matmul(int* A, int* B, int* C, int N)\n",
        "{\n",
        "    int Row = blockIdx.y * blockDim.y + threadIdx.y;\n",
        "    int Col = blockIdx.x * blockDim.x + threadIdx.x;\n",
        "    \n",
        "    if (Row < N && Col < N)\n",
        "    {\n",
        "        int Pvalue = 0;\n",
        "        for (int k = 0; k < N; k++)\n",
        "        {\n",
        "            Pvalue += A[Row * N + k] * B[k * N + Col];\n",
        "        }\n",
        "        \n",
        "        C[Row * N + Col] = Pvalue;\n",
        "    }\n",
        "}\n",
        "\n",
        "int main()\n",
        "{\n",
        "    int N = 3;\n",
        "    int size = N * N * sizeof(int);\n",
        "    int *A, *B, *C;\n",
        "    int *dev_A, *dev_B, *dev_C;\n",
        "    \n",
        "    // Allocate memory on host\n",
        "    A = new int[N * N];\n",
        "    B = new int[N * N];\n",
        "    C = new int[N * N];\n",
        "    \n",
        "    // Initialize matrices\n",
        "    for (int i = 0; i < N; i++)\n",
        "    {\n",
        "        for (int j = 0; j < N; j++)\n",
        "        {\n",
        "            A[i * N + j] = i * N + j;\n",
        "            B[i * N + j] = j * N + i;\n",
        "        }\n",
        "    }\n",
        "    \n",
        "    // Allocate memory on device\n",
        "    cudaMalloc((void**)&dev_A, size);\n",
        "    cudaMalloc((void**)&dev_B, size);\n",
        "    cudaMalloc((void**)&dev_C, size);\n",
        "    \n",
        "    // Copy input matrices from host to device\n",
        "    cudaMemcpy(dev_A, A, size, cudaMemcpyHostToDevice);\n",
        "    cudaMemcpy(dev_B, B, size, cudaMemcpyHostToDevice);\n",
        "    \n",
        "    // Define block size and grid size\n",
        "    dim3 dimBlock(16, 16);\n",
        "    dim3 dimGrid((N + dimBlock.x - 1) / dimBlock.x, (N + dimBlock.y - 1) / dimBlock.y);\n",
        "    \n",
        "    // Launch the kernel for matrix multiplication\n",
        "    matmul<<<dimGrid, dimBlock>>>(dev_A, dev_B, dev_C, N);\n",
        "    \n",
        "    // Copy the result from device to host\n",
        "    cudaMemcpy(C, dev_C, size, cudaMemcpyDeviceToHost);\n",
        "    \n",
        "    // Print matrices\n",
        "    std::cout << \"Matrix A:\" << std::endl;\n",
        "    for (int i = 0; i < N; i++)\n",
        "    {\n",
        "        for (int j = 0; j < N; j++)\n",
        "        {\n",
        "            std::cout << A[i * N + j] << \" \";\n",
        "        }\n",
        "        std::cout << std::endl;\n",
        "    }\n",
        "    \n",
        "    std::cout << \"Matrix B:\" << std::endl;\n",
        "    for (int i = 0; i < N; i++)\n",
        "    {\n",
        "        for (int j = 0; j < N; j++)\n",
        "        {\n",
        "            std::cout << B[i * N + j] << \" \";\n",
        "        }\n",
        "        std::cout << std::endl;\n",
        "    }\n",
        "    \n",
        "    std::cout << \"Resultant Matrix:\" << std::endl;\n",
        "    for (int i = 0; i < N; i++)\n",
        "    {\n",
        "        for (int j = 0; j < N; j++)\n",
        "        {\n",
        "            std::cout << C[i * N + j] << \" \";\n",
        "        }\n",
        "        std::cout << std::endl;\n",
        "    }\n",
        "    \n",
        "    // Free device memory\n",
        "    cudaFree(dev_A);\n",
        "    cudaFree(dev_B);\n",
        "    cudaFree(dev_C);\n",
        "    \n",
        "    // Free host memory\n",
        "    delete[] A;\n",
        "    delete[] B;\n",
        "    delete[] C;\n",
        "    \n",
        "    return 0;\n",
        "}\n"
      ],
      "metadata": {
        "colab": {
          "base_uri": "https://localhost:8080/"
        },
        "id": "PUZYT8lDC0de",
        "outputId": "500c2fbd-7160-4a1b-bcd5-195704a82099"
      },
      "execution_count": null,
      "outputs": [
        {
          "output_type": "stream",
          "name": "stdout",
          "text": [
            "Matrix A:\n",
            "0 1 2 \n",
            "3 4 5 \n",
            "6 7 8 \n",
            "Matrix B:\n",
            "0 3 6 \n",
            "1 4 7 \n",
            "2 5 8 \n",
            "Resultant Matrix:\n",
            "5 14 23 \n",
            "14 50 86 \n",
            "23 86 149 \n",
            "\n"
          ]
        }
      ]
    }
  ]
}